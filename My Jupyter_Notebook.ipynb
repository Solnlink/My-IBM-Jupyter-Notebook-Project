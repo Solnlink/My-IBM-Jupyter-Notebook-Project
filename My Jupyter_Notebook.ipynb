{
 "cells": [
  {
   "cell_type": "markdown",
   "id": "1b247f04-1603-456e-b12f-9dc09307e398",
   "metadata": {},
   "source": [
    "# My Jupyter Notebook on IBM Watson Studio"
   ]
  },
  {
   "cell_type": "markdown",
   "id": "a43991fc-c3d9-40ce-bd09-2c648d2cd152",
   "metadata": {},
   "source": [
    "Name: **Chekwube Madichie**\n",
    "\n",
    "Occupation: **Research**"
   ]
  },
  {
   "cell_type": "markdown",
   "id": "881569c4-c390-41e2-958c-31e513d52af5",
   "metadata": {},
   "source": [
    "*I am interested in data science because I want to help businesses and research community in the area of data analytics*\n",
    "\n",
    "*I want to be able to able codes and build prediction models for economic forecasting*"
   ]
  },
  {
   "cell_type": "markdown",
   "id": "8bff69fc-3c83-4d26-87af-10ad68d5c974",
   "metadata": {},
   "source": [
    "### My code in cell 5 will execute the summation of 10 and 5"
   ]
  },
  {
   "cell_type": "code",
   "execution_count": 1,
   "id": "5be7f686-a055-45e5-8f70-686589233ade",
   "metadata": {},
   "outputs": [
    {
     "data": {
      "text/plain": [
       "15"
      ]
     },
     "execution_count": 1,
     "metadata": {},
     "output_type": "execute_result"
    }
   ],
   "source": [
    "10+5"
   ]
  },
  {
   "cell_type": "markdown",
   "id": "0bb14c40-6c8c-48cc-b6d3-20de4b61a955",
   "metadata": {},
   "source": [
    "**Hyperlinks**\n",
    "\n",
    "<a href=\"https://www.youtube.com/c/chekwubemadichie\">ViData Solutions</a> \n",
    "\n",
    "<a href=\"https://www.lbs.edu.ng\">Lagos Business School</a> \n",
    "\n",
    "<a href=\"https://www.unizik.edu.ng\">Nnamdi Azikiwe University, Awka</a> \n",
    "\n",
    "**Tables**\n",
    "\n",
    "| Age    | Gender | Race   |\n",
    "| ------ | ------ | ------ |\n",
    "| 35     | Male   | Black  |\n",
    "\n",
    "\n",
    "| Age    | Gender | Race |\n",
    "| ------ |:------:| ----:|\n",
    "| 35     | Male   |Black |\n",
    "| 30     | Female |White |\n",
    "| 20     | Male   |Black |\n",
    "\n",
    "\n",
    "Markdown | Less | Pretty\n",
    "--- | --- | ---\n",
    "*Still* | `renders` | **nicely**\n",
    "1 | 2 | 3\n",
    "\n",
    "**Number List**\n",
    "\n",
    "1. A\n",
    "2. B\n",
    "3. C\n",
    "4. D\n",
    "\n",
    "\n",
    "**Bullet List**\n",
    "- egg\n",
    "- water\n",
    "- food\n",
    "\n",
    "\n",
    "**Images**\n",
    "\n",
    "![alt text](https://github.com/adam-p/markdown-here/raw/master/src/common/images/icon48.png \"Logo Title Text 1\")\n",
    "![alt text](https://github.com/adam-p/markdown-here/raw/master/src/common/images/icon48.png \"Logo Title Text 1\")\n",
    "![alt text](https://github.com/adam-p/markdown-here/raw/master/src/common/images/icon48.png \"Logo Title Text 1\")\n",
    "\n",
    "**Horizontal Rule**\n",
    "\n",
    "****\n",
    "\n",
    "**Code/Syntax Highlighting**\n",
    "\n",
    "Inline `code` has `back-ticks around` it.\n",
    "\n",
    "**Strikethrough**\n",
    "\n",
    " ~~Scratch this.~~\n",
    " \n",
    " **Block Quotes**\n",
    "\n",
    "> Blockquotes are very handy in email to emulate reply text.\n",
    "> This line is part of the same quote."
   ]
  }
 ],
 "metadata": {
  "kernelspec": {
   "display_name": "Python",
   "language": "python",
   "name": "conda-env-python-py"
  },
  "language_info": {
   "codemirror_mode": {
    "name": "ipython",
    "version": 3
   },
   "file_extension": ".py",
   "mimetype": "text/x-python",
   "name": "python",
   "nbconvert_exporter": "python",
   "pygments_lexer": "ipython3",
   "version": "3.7.12"
  }
 },
 "nbformat": 4,
 "nbformat_minor": 5
}
